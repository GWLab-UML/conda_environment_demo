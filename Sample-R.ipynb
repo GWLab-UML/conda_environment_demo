{
 "cells": [
  {
   "cell_type": "markdown",
   "id": "489a9e09",
   "metadata": {},
   "source": [
    "# Sample Islolated R Environment\n",
    "\n",
    "We can use our environment packages without having to muck around with installers."
   ]
  },
  {
   "cell_type": "code",
   "execution_count": 16,
   "id": "d59bcc74-f062-4d63-997b-00c21a239f3f",
   "metadata": {},
   "outputs": [],
   "source": [
    "# For example...\n",
    "library(\"tidyverse\")"
   ]
  },
  {
   "cell_type": "code",
   "execution_count": 17,
   "id": "86914dfa-8d60-4f42-8b4d-99a50357ea11",
   "metadata": {},
   "outputs": [],
   "source": [
    "# Or...\n",
    "library(\"EnhancedVolcano\")"
   ]
  },
  {
   "cell_type": "markdown",
   "id": "2b582f1d-0a0f-4715-9454-5c94d80a7d62",
   "metadata": {},
   "source": [
    "And so forth..."
   ]
  },
  {
   "cell_type": "code",
   "execution_count": null,
   "id": "38729323-48ce-421c-8105-dc895ae408c5",
   "metadata": {},
   "outputs": [],
   "source": []
  }
 ],
 "metadata": {
  "kernelspec": {
   "display_name": "R",
   "language": "R",
   "name": "ir"
  },
  "language_info": {
   "codemirror_mode": "r",
   "file_extension": ".r",
   "mimetype": "text/x-r-source",
   "name": "R",
   "pygments_lexer": "r",
   "version": "4.3.3"
  }
 },
 "nbformat": 4,
 "nbformat_minor": 5
}
